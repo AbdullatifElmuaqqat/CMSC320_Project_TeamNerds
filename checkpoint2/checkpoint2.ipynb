{
 "cells": [
  {
   "cell_type": "markdown",
   "id": "673c4dd1",
   "metadata": {},
   "source": [
    "#### Import packages"
   ]
  },
  {
   "cell_type": "code",
   "execution_count": 191,
   "id": "6c94fa38",
   "metadata": {},
   "outputs": [],
   "source": [
    "import pandas as pd\n",
    "import numpy as np\n",
    "import matplotlib.pyplot as plt\n",
    "from sklearn.preprocessing import LabelEncoder # for encoding categorical labels\n",
    "import seaborn as sns\n",
    "from sklearn.feature_extraction.text import TfidfVectorizer\n",
    "from scipy.stats import ttest_ind\n",
    "from scipy.stats import f_oneway\n",
    "import re\n",
    "from vaderSentiment.vaderSentiment import SentimentIntensityAnalyzer\n"
   ]
  },
  {
   "cell_type": "markdown",
   "id": "c20248c9",
   "metadata": {},
   "source": [
    "______________________________________________________________________________________________________________________________\n",
    "\n",
    "## Define the dataset"
   ]
  },
  {
   "cell_type": "code",
   "execution_count": 192,
   "id": "16e06871",
   "metadata": {},
   "outputs": [
    {
     "data": {
      "text/html": [
       "<div>\n",
       "<style scoped>\n",
       "    .dataframe tbody tr th:only-of-type {\n",
       "        vertical-align: middle;\n",
       "    }\n",
       "\n",
       "    .dataframe tbody tr th {\n",
       "        vertical-align: top;\n",
       "    }\n",
       "\n",
       "    .dataframe thead th {\n",
       "        text-align: right;\n",
       "    }\n",
       "</style>\n",
       "<table border=\"1\" class=\"dataframe\">\n",
       "  <thead>\n",
       "    <tr style=\"text-align: right;\">\n",
       "      <th></th>\n",
       "      <th>Unnamed: 0.1</th>\n",
       "      <th>Unnamed: 0</th>\n",
       "      <th>Text</th>\n",
       "      <th>Sentiment</th>\n",
       "      <th>Timestamp</th>\n",
       "      <th>User</th>\n",
       "      <th>Platform</th>\n",
       "      <th>Hashtags</th>\n",
       "      <th>Retweets</th>\n",
       "      <th>Likes</th>\n",
       "      <th>Country</th>\n",
       "      <th>Year</th>\n",
       "      <th>Month</th>\n",
       "      <th>Day</th>\n",
       "      <th>Hour</th>\n",
       "    </tr>\n",
       "  </thead>\n",
       "  <tbody>\n",
       "    <tr>\n",
       "      <th>0</th>\n",
       "      <td>0</td>\n",
       "      <td>0</td>\n",
       "      <td>Enjoying a beautiful day at the park!        ...</td>\n",
       "      <td>Positive</td>\n",
       "      <td>2023-01-15 12:30:00</td>\n",
       "      <td>User123</td>\n",
       "      <td>Twitter</td>\n",
       "      <td>#Nature #Park</td>\n",
       "      <td>15.0</td>\n",
       "      <td>30.0</td>\n",
       "      <td>USA</td>\n",
       "      <td>2023</td>\n",
       "      <td>1</td>\n",
       "      <td>15</td>\n",
       "      <td>12</td>\n",
       "    </tr>\n",
       "    <tr>\n",
       "      <th>1</th>\n",
       "      <td>1</td>\n",
       "      <td>1</td>\n",
       "      <td>Traffic was terrible this morning.           ...</td>\n",
       "      <td>Negative</td>\n",
       "      <td>2023-01-15 08:45:00</td>\n",
       "      <td>CommuterX</td>\n",
       "      <td>Twitter</td>\n",
       "      <td>#Traffic #Morning</td>\n",
       "      <td>5.0</td>\n",
       "      <td>10.0</td>\n",
       "      <td>Canada</td>\n",
       "      <td>2023</td>\n",
       "      <td>1</td>\n",
       "      <td>15</td>\n",
       "      <td>8</td>\n",
       "    </tr>\n",
       "    <tr>\n",
       "      <th>2</th>\n",
       "      <td>2</td>\n",
       "      <td>2</td>\n",
       "      <td>Just finished an amazing workout! 💪          ...</td>\n",
       "      <td>Positive</td>\n",
       "      <td>2023-01-15 15:45:00</td>\n",
       "      <td>FitnessFan</td>\n",
       "      <td>Instagram</td>\n",
       "      <td>#Fitness #Workout</td>\n",
       "      <td>20.0</td>\n",
       "      <td>40.0</td>\n",
       "      <td>USA</td>\n",
       "      <td>2023</td>\n",
       "      <td>1</td>\n",
       "      <td>15</td>\n",
       "      <td>15</td>\n",
       "    </tr>\n",
       "    <tr>\n",
       "      <th>3</th>\n",
       "      <td>3</td>\n",
       "      <td>3</td>\n",
       "      <td>Excited about the upcoming weekend getaway!  ...</td>\n",
       "      <td>Positive</td>\n",
       "      <td>2023-01-15 18:20:00</td>\n",
       "      <td>AdventureX</td>\n",
       "      <td>Facebook</td>\n",
       "      <td>#Travel #Adventure</td>\n",
       "      <td>8.0</td>\n",
       "      <td>15.0</td>\n",
       "      <td>UK</td>\n",
       "      <td>2023</td>\n",
       "      <td>1</td>\n",
       "      <td>15</td>\n",
       "      <td>18</td>\n",
       "    </tr>\n",
       "    <tr>\n",
       "      <th>4</th>\n",
       "      <td>4</td>\n",
       "      <td>4</td>\n",
       "      <td>Trying out a new recipe for dinner tonight.  ...</td>\n",
       "      <td>Neutral</td>\n",
       "      <td>2023-01-15 19:55:00</td>\n",
       "      <td>ChefCook</td>\n",
       "      <td>Instagram</td>\n",
       "      <td>#Cooking #Food</td>\n",
       "      <td>12.0</td>\n",
       "      <td>25.0</td>\n",
       "      <td>Australia</td>\n",
       "      <td>2023</td>\n",
       "      <td>1</td>\n",
       "      <td>15</td>\n",
       "      <td>19</td>\n",
       "    </tr>\n",
       "  </tbody>\n",
       "</table>\n",
       "</div>"
      ],
      "text/plain": [
       "   Unnamed: 0.1  Unnamed: 0  \\\n",
       "0             0           0   \n",
       "1             1           1   \n",
       "2             2           2   \n",
       "3             3           3   \n",
       "4             4           4   \n",
       "\n",
       "                                                Text    Sentiment  \\\n",
       "0   Enjoying a beautiful day at the park!        ...   Positive     \n",
       "1   Traffic was terrible this morning.           ...   Negative     \n",
       "2   Just finished an amazing workout! 💪          ...   Positive     \n",
       "3   Excited about the upcoming weekend getaway!  ...   Positive     \n",
       "4   Trying out a new recipe for dinner tonight.  ...   Neutral      \n",
       "\n",
       "             Timestamp            User     Platform  \\\n",
       "0  2023-01-15 12:30:00   User123          Twitter     \n",
       "1  2023-01-15 08:45:00   CommuterX        Twitter     \n",
       "2  2023-01-15 15:45:00   FitnessFan      Instagram    \n",
       "3  2023-01-15 18:20:00   AdventureX       Facebook    \n",
       "4  2023-01-15 19:55:00   ChefCook        Instagram    \n",
       "\n",
       "                                     Hashtags  Retweets  Likes       Country  \\\n",
       "0   #Nature #Park                                  15.0   30.0     USA         \n",
       "1   #Traffic #Morning                               5.0   10.0     Canada      \n",
       "2   #Fitness #Workout                              20.0   40.0   USA           \n",
       "3   #Travel #Adventure                              8.0   15.0     UK          \n",
       "4   #Cooking #Food                                 12.0   25.0    Australia    \n",
       "\n",
       "   Year  Month  Day  Hour  \n",
       "0  2023      1   15    12  \n",
       "1  2023      1   15     8  \n",
       "2  2023      1   15    15  \n",
       "3  2023      1   15    18  \n",
       "4  2023      1   15    19  "
      ]
     },
     "execution_count": 192,
     "metadata": {},
     "output_type": "execute_result"
    }
   ],
   "source": [
    "data = pd.read_csv('sentimentdataset.csv')\n",
    "df = pd.DataFrame(data)\n",
    "df.head()"
   ]
  },
  {
   "cell_type": "markdown",
   "id": "2737f2f0",
   "metadata": {},
   "source": [
    "_____________________________________________________________________________________________________________________\n",
    "\n",
    "## Data Exploring: Check for null values and data types."
   ]
  },
  {
   "cell_type": "code",
   "execution_count": 193,
   "id": "f53fa44f",
   "metadata": {},
   "outputs": [
    {
     "name": "stdout",
     "output_type": "stream",
     "text": [
      "<class 'pandas.core.frame.DataFrame'>\n",
      "RangeIndex: 732 entries, 0 to 731\n",
      "Data columns (total 15 columns):\n",
      " #   Column        Non-Null Count  Dtype  \n",
      "---  ------        --------------  -----  \n",
      " 0   Unnamed: 0.1  732 non-null    int64  \n",
      " 1   Unnamed: 0    732 non-null    int64  \n",
      " 2   Text          732 non-null    object \n",
      " 3   Sentiment     732 non-null    object \n",
      " 4   Timestamp     732 non-null    object \n",
      " 5   User          732 non-null    object \n",
      " 6   Platform      732 non-null    object \n",
      " 7   Hashtags      732 non-null    object \n",
      " 8   Retweets      732 non-null    float64\n",
      " 9   Likes         732 non-null    float64\n",
      " 10  Country       732 non-null    object \n",
      " 11  Year          732 non-null    int64  \n",
      " 12  Month         732 non-null    int64  \n",
      " 13  Day           732 non-null    int64  \n",
      " 14  Hour          732 non-null    int64  \n",
      "dtypes: float64(2), int64(6), object(7)\n",
      "memory usage: 85.9+ KB\n",
      "None\n"
     ]
    }
   ],
   "source": [
    "print(df.info())"
   ]
  },
  {
   "cell_type": "markdown",
   "id": "b4073cda",
   "metadata": {},
   "source": [
    "_____________________________________________________________________________________________________________________________\n",
    "## Data Processing"
   ]
  },
  {
   "cell_type": "code",
   "execution_count": 194,
   "id": "c37f96ed",
   "metadata": {},
   "outputs": [],
   "source": [
    "labelenc = LabelEncoder() #label encoder instance\n",
    "df['Sentiment_encoded'] = labelenc.fit_transform(df['Sentiment'])\n",
    "\n",
    "df['combined'] = df['Text'].astype(str) + \" \" + df['Hashtags'].astype(str)\n",
    "\n",
    "\n",
    "vecto = TfidfVectorizer()\n",
    "text_vec = vecto.fit_transform(df['combined'])"
   ]
  },
  {
   "cell_type": "markdown",
   "id": "5404894b",
   "metadata": {},
   "source": [
    "______________________________________________________________________________________________________________________________\n",
    "\n",
    "## Summary Statistics and Hypothesis Testing"
   ]
  },
  {
   "cell_type": "markdown",
   "id": "e5c57eba",
   "metadata": {},
   "source": [
    "#### Distribution of sentiment in the data set.\n",
    "Show how frequent each sentiment is."
   ]
  },
  {
   "cell_type": "code",
   "execution_count": 195,
   "id": "130437a4",
   "metadata": {},
   "outputs": [
    {
     "data": {
      "image/png": "[encoded data removed]",
      "text/plain": [
       "<Figure size 1200x500 with 1 Axes>"
      ]
     },
     "metadata": {},
     "output_type": "display_data"
    }
   ],
   "source": [
    "filtered = df['Sentiment'].value_counts()[df['Sentiment'].value_counts() > 5]\n",
    "filtered.plot(kind='bar', ylabel=\"frequency\", title=\"Sentiment Frequency\", figsize=(12,5), color='red')\n",
    "plt.show()"
   ]
  },
  {
   "cell_type": "markdown",
   "id": "a5488ffb",
   "metadata": {},
   "source": [
    "_________________________________________________________________________________________________________________________\n",
    "\n",
    "## Welch’s t-test: Comparing Engagement Between Positive and Negative Posts\n",
    "\n",
    "In this part, we wanted to see if engagement (likes + retweets) differs between positive and negative posts.\n",
    "we used the *Welch t-test* because it’s designed to compare the means of two groups that might have\n",
    "different variances or sample sizes.\n",
    "\n",
    "*null hypothesis (H0):* there is no difference in average engagement between positive and negative posts.  \n",
    "*alternative hypothesis (H1):* there is a difference in average engagement between the two groups.\n",
    "\n",
    "we’ll visualize the averages first and then look at the test results to check if the difference is significant."
   ]
  },
  {
   "cell_type": "code",
   "execution_count": 196,
   "id": "21ca0685",
   "metadata": {},
   "outputs": [
    {
     "name": "stdout",
     "output_type": "stream",
     "text": [
      "Welch t-test: t=9.346, p=0.0000\n"
     ]
    },
    {
     "data": {
      "image/png": "[encoded data removed]",
      "text/plain": [
       "<Figure size 600x400 with 1 Axes>"
      ]
     },
     "metadata": {},
     "output_type": "display_data"
    }
   ],
   "source": [
    "# getting engagement count\n",
    "engagement = []\n",
    "for retweet, like in zip(df['Retweets'],  df['Likes']):\n",
    "    total = like + retweet\n",
    "    engagement.append(total)\n",
    "\n",
    "df['Engagement'] = engagement\n",
    "df\n",
    "\n",
    "\n",
    "## normalize the labels\n",
    "df['Sentiment_norm'] = df['Sentiment'].astype(str).str.strip().str.lower()\n",
    "\n",
    "## put each sentiment into buckets\n",
    "\n",
    "pos = {\n",
    "    'positive','happiness','joy','love','amusement','enjoyment','admiration',\n",
    "    'affection','awe','surprise','acceptance','adoration','anticipation',\n",
    "    'kind','pride','excitement','optimistic','gratitude'\n",
    "}\n",
    "\n",
    "neg = {\n",
    "    'negative','anger','fear','sadness','disgust','disappointed','bitter',\n",
    "    'shame'\n",
    "}\n",
    "\n",
    "neu = {'neutral', 'confusion','acceptance','calmness'}\n",
    "\n",
    "sentiment_map = {}\n",
    "sentiment_map.update({k:'positive' for k in pos})\n",
    "sentiment_map.update({k:'negative' for k in neg})\n",
    "sentiment_map.update({k:'netrual' for k in neu})\n",
    "\n",
    "df['Polarity'] = df['Sentiment_norm'].map(sentiment_map)\n",
    "\n",
    "## for sentiments that are not mapped, use vader on the text\n",
    "sia = SentimentIntensityAnalyzer()\n",
    "def vader_bucket(text):\n",
    "    c = sia.polarity_scores(str(text))['compound']\n",
    "    return 'positive' if c > 0.05 else ('negative' if c < -0.05 else 'neutral')\n",
    "\n",
    "df.loc[df['Polarity'].isna(), 'Polarity'] = df.loc[df['Polarity'].isna(), 'Text'].apply(vader_bucket)\n",
    "\n",
    "## keep groups with atleast 5 tweets\n",
    "counts = df['Polarity'].value_counts()\n",
    "keep = counts[counts >=  5].index\n",
    "df_f = df[df['Polarity'].isin(keep)]\n",
    "\n",
    "## compare the means\n",
    "pos_eng = df_f.loc[df_f['Polarity'] == 'positive', 'Engagement']\n",
    "neg_eng = df_f.loc[df_f['Polarity'] == 'negative', 'Engagement']\n",
    "\n",
    "t_stat, p_val = ttest_ind(pos_eng, neg_eng, equal_var=False)\n",
    "\n",
    "print(\"Welch t-test: t=%.3f, p=%.4f\" % (t_stat, p_val))\n",
    "\n",
    "df_subset = df_f[df_f['Polarity'].isin(['positive', 'negative'])]\n",
    "\n",
    "# Plot\n",
    "plt.figure(figsize=(6,4))\n",
    "sns.barplot(\n",
    "    data=df_subset,\n",
    "    x='Polarity',\n",
    "    y='Engagement',\n",
    "    hue='Polarity',\n",
    "    legend=False,\n",
    "    errorbar='sd',\n",
    "    palette='coolwarm'\n",
    ")\n",
    "plt.title('Average Engagement by Sentiment')\n",
    "plt.ylabel('Average Likes + Retweets')\n",
    "plt.xlabel('Sentiment')\n",
    "plt.show()    "
   ]
  },
  {
   "cell_type": "markdown",
   "id": "b07a9de5",
   "metadata": {},
   "source": [
    "The bar chart shows that positive posts have noticeably higher average engagement than negative ones.\n",
    "Based on the Welch’s t-test that we ran, we found that:\n",
    "\n",
    "*t = 9.346, p = 0.0000*\n",
    "\n",
    "Since the p-value < 0.05, we *reject the null hypothesis*.\n",
    "This means the difference in engagement is statistically significant, positive posts really do get more likes\n",
    "and retweets than negative ones. this supports our main hypothesis that positive sentiment leads to higher\n",
    "engagement."
   ]
  },
  {
   "cell_type": "markdown",
   "id": "8c799ef3",
   "metadata": {},
   "source": [
    "______________________________________________________________________________________________________________________________\n",
    "\n",
    "## One-Way ANOVA: Comparing Sentiment Across Platforms\n",
    "\n",
    "In this section, we wanted to see if the average sentiment differs across platforms: twitter, facebook, and instagram.  \n",
    "Since we’re comparing *three groups, we used a **one-way ANOVA test*.\n",
    "\n",
    "*null hypothesis (H0):* there is no significant difference in average sentiment between the three platforms.  \n",
    "*alternative hypothesis (H1):* at least one platform’s average sentiment is significantly different from the others.\n",
    "\n",
    "We will give each Sentiment a score of either -1 (Negative), 0 (Neutral), or 1 (Positive) based on the emotion. Then we will look at the test results to check if the difference is significant."
   ]
  },
  {
   "cell_type": "code",
   "execution_count": 197,
   "id": "a7b1d85b",
   "metadata": {},
   "outputs": [],
   "source": [
    "# mapping sentiment to scores (-1,0,1) for the hypothesis testing....\n",
    "\n",
    "sentiment_scores = {\n",
    "    'Acceptance': 1, 'Accomplishment': 1, 'Admiration': 1, 'Adoration': 1, 'Adrenaline': 1,\n",
    "    'Adventure': 1, 'Affection': 1, 'Amazement': 1, 'Ambivalence': 0, 'Amusement': 1,\n",
    "    'Anger': -1, 'Anticipation': 1, 'Anxiety': -1, 'Appreciation': 1, 'Apprehensive': -1,\n",
    "    'Arousal': 0, 'ArtisticBurst': 1, 'Awe': 1, 'Bad': -1, 'Betrayal': -1, 'Bitter': -1,\n",
    "    'Bitterness': -1, 'Bittersweet': 0, 'Blessed': 1, 'Boredom': -1, 'Breakthrough': 1,\n",
    "    'Calmness': 1, 'Captivation': 1, 'Celebration': 1, 'Celestial Wonder': 1, 'Challenge': 0,\n",
    "    'Charm': 1, 'Colorful': 1, 'Compassion': 1, 'Compassionate': 1, 'Confidence': 1,\n",
    "    'Confident': 1, 'Confusion': 0, 'Connection': 1, 'Contemplation': 0, 'Contentment': 1,\n",
    "    'Coziness': 1, 'Creative Inspiration': 1, 'Creativity': 1, 'Culinary Adventure': 1,\n",
    "    'CulinaryOdyssey': 1, 'Curiosity': 1, 'Darkness': -1, 'Dazzle': 1, 'Desolation': -1,\n",
    "    'Despair': -1, 'Desperation': -1, 'Determination': 1, 'Devastated': -1,\n",
    "    'Disappointed': -1, 'Disappointment': -1, 'Disgust': -1, 'Dismissive': -1,\n",
    "    'DreamChaser': 1, 'Ecstasy': 1, 'Elation': 1, 'Elegance': 1, 'Embarrassed': -1,\n",
    "    'Emotion': 0, 'EmotionalStorm': -1, 'Empathetic': 1, 'Empowerment': 1, 'Enchantment': 1,\n",
    "    'Energy': 1, 'Engagement': 1, 'Enjoyment': 1, 'Enthusiasm': 1, 'Envious': -1,\n",
    "    'Envisioning History': 0, 'Envy': -1, 'Euphoria': 1, 'Excitement': 1, 'Exhaustion': -1,\n",
    "    'Exploration': 1, 'Fear': -1, 'Fearful': -1, 'FestiveJoy': 1, 'Free-spirited': 1,\n",
    "    'Freedom': 1, 'Friendship': 1, 'Frustrated': -1, 'Frustration': -1, 'Fulfillment': 1,\n",
    "    'Grandeur': 1, 'Grateful': 1, 'Gratitude': 1, 'Grief': -1, 'Happiness': 1, 'Happy': 1,\n",
    "    'Harmony': 1, 'Hate': -1, 'Heartache': -1, 'Heartbreak': -1, 'Heartwarming': 1,\n",
    "    'Helplessness': -1, 'Hope': 1, 'Hopeful': 1, 'Hypnotic': 0, 'Iconic': 1, 'Imagination': 1,\n",
    "    'Immersion': 0, 'Indifference': 0, 'InnerJourney': 1, 'Inspiration': 1, 'Inspired': 1,\n",
    "    'Intimidation': -1, 'Intrigue': 1, 'Isolation': -1, 'Jealous': -1, 'Jealousy': -1,\n",
    "    'Journey': 1, 'Joy': 1, 'Joy in Baking': 1, 'JoyfulReunion': 1, 'Kind': 1, 'Kindness': 1,\n",
    "    'Loneliness': -1, 'Loss': -1, 'LostLove': -1, 'Love': 1, 'Marvel': 1, 'Melancholy': -1,\n",
    "    'Melodic': 1, 'Mesmerizing': 1, 'Mindfulness': 1, 'Miscalculation': -1, 'Mischievous': 0,\n",
    "    'Motivation': 1, \"Nature's Beauty\": 1, 'Negative': -1, 'Neutral': 0, 'Nostalgia': 0,\n",
    "    'Numbness': 0, 'Obstacle': 0, \"Ocean's Freedom\": 1, 'Optimism': 1, 'Overjoyed': 1,\n",
    "    'Overwhelmed': -1, 'Pensive': 0, 'Playful': 1, 'PlayfulJoy': 1, 'Positive': 1,\n",
    "    'Positivity': 1, 'Pressure': -1, 'Pride': 1, 'Proud': 1, 'Radiance': 1, 'Reflection': 0,\n",
    "    'Regret': -1, 'Rejuvenation': 1, 'Relief': 1, 'Renewed Effort': 1, 'Resentment': -1,\n",
    "    'Resilience': 1, 'Reverence': 1, 'Romance': 1, 'Ruins': -1, 'Runway Creativity': 1,\n",
    "    'Sad': -1, 'Sadness': -1, 'Satisfaction': 1, 'Serenity': 1, 'Shame': -1, 'Solace': 1,\n",
    "    'Solitude': 0, 'Sorrow': -1, 'Spark': 1, 'Success': 1, 'Suffering': -1, 'Surprise': 0,\n",
    "    'Suspense': 0, 'Sympathy': 1, 'Tenderness': 1, 'Thrill': 1, 'Thrilling Journey': 1,\n",
    "    'Touched': 1, 'Tranquility': 1, 'Triumph': 1, 'Vibrancy': 1, 'Whimsy': 1,\n",
    "    'Whispers of the Past': 0, 'Winter Magic': 1, 'Wonder': 1, 'Wonderment': 1, 'Yearning': 0,\n",
    "    'Zest': 1\n",
    "}"
   ]
  },
  {
   "cell_type": "code",
   "execution_count": 198,
   "id": "61937671",
   "metadata": {},
   "outputs": [
    {
     "data": {
      "image/png": "[encoded data removed]",
      "text/plain": [
       "<Figure size 1000x600 with 1 Axes>"
      ]
     },
     "metadata": {},
     "output_type": "display_data"
    }
   ],
   "source": [
    "#Clean sentiment column\n",
    "df['Platform'] = df['Platform'].str.strip().str.capitalize()\n",
    "df['Sentiment'] = df['Sentiment'].str.strip()\n",
    "df['Sentiment_Score'] = df['Sentiment'].map(sentiment_scores)\n",
    "\n",
    "#Calculates the average sentiment scores per platform\n",
    "avg_scores = df.groupby('Platform')['Sentiment_Score'].mean().sort_values()\n",
    "\n",
    "#Creates bar plot\n",
    "plt.figure(figsize=(10, 6))\n",
    "avg_scores.plot(kind='bar', color='skyblue')\n",
    "plt.title('Average Sentiment Score by Platform')\n",
    "plt.xlabel('Platform')\n",
    "plt.ylabel('Average Sentiment Score')\n",
    "plt.xticks(rotation=45, ha='right')\n",
    "plt.tight_layout()\n",
    "plt.show()"
   ]
  },
  {
   "cell_type": "markdown",
   "id": "7fc11b38",
   "metadata": {},
   "source": [
    "The chart shows that facebook and instagram have slightly higher average sentiment scores than twitter.  \n",
    "however, when we ran the one-way ANOVA test, we got:\n",
    "\n",
    "*F-statistic = 1.2153*  \n",
    "*p-value = 0.303*\n",
    "\n",
    "since the p-value is greater than 0.05, we *fail to reject the null hypothesis*.  \n",
    "this means there’s no statistically significant difference in average sentiment across platforms.\n",
    "\n",
    "in simple words, even though instagram and facebook look a bit more positive, the difference isn’t large enough to be statistically meaningful, all three platforms have pretty similar overall sentiment levels."
   ]
  },
  {
   "cell_type": "code",
   "execution_count": 199,
   "id": "ea53dd55",
   "metadata": {},
   "outputs": [
    {
     "name": "stdout",
     "output_type": "stream",
     "text": [
      "Platforms and counts:\n",
      "Platform\n",
      "Instagram    23\n",
      "Twitter      22\n",
      "Facebook     22\n",
      "Name: count, dtype: int64 \n",
      "\n",
      "ANOVA Results:\n",
      "F-statistic: 1.2153\n",
      "P-value: 0.303363\n",
      "Fail to reject the null hypothesis: No significant difference in mean sentiment across platforms.\n"
     ]
    }
   ],
   "source": [
    "df = pd.read_csv(\"sentimentdataset.csv\")\n",
    "\n",
    "df['Sentiment'] = df['Sentiment'].astype(str).str.strip().str.lower()\n",
    "df['Platform'] = df['Platform'].astype(str).str.strip().str.title()\n",
    "\n",
    "# Map to numeric sentiment scores\n",
    "sentiment_mapping = {'positive': 1, 'neutral': 0, 'negative': -1}\n",
    "df['Sentiment'] = df['Sentiment'].replace(sentiment_mapping)\n",
    "\n",
    "# Drop rows with missing or invalid values\n",
    "df = df.dropna(subset=['Sentiment', 'Platform'])\n",
    "df = df[df['Sentiment'].isin([-1, 0, 1])]\n",
    "\n",
    "# Check counts per platform\n",
    "print(\"Platforms and counts:\")\n",
    "print(df['Platform'].value_counts(), \"\\n\")\n",
    "\n",
    "# Group data for ANOVA\n",
    "groups = [group['Sentiment'].values for _, group in df.groupby('Platform') if len(group) > 1]\n",
    "\n",
    "# Run one-way ANOVA\n",
    "if len(groups) >= 2:\n",
    "    f_stat, p_value = f_oneway(*groups)\n",
    "    print(\"ANOVA Results:\")\n",
    "    print(f\"F-statistic: {f_stat:.4f}\")\n",
    "    print(f\"P-value: {p_value:.6f}\")\n",
    "\n",
    "    if p_value < 0.05:\n",
    "        print(\"→ Reject the null hypothesis: At least one platform has a significantly different mean sentiment.\")\n",
    "    else:\n",
    "        print(\"Fail to reject the null hypothesis: No significant difference in mean sentiment across platforms.\")\n",
    "else:\n",
    "    print(\"Not enough valid groups for ANOVA.\")\n"
   ]
  }
 ],
 "metadata": {
  "kernelspec": {
   "display_name": "Python 3",
   "language": "python",
   "name": "python3"
  },
  "language_info": {
   "codemirror_mode": {
    "name": "ipython",
    "version": 3
   },
   "file_extension": ".py",
   "mimetype": "text/x-python",
   "name": "python",
   "nbconvert_exporter": "python",
   "pygments_lexer": "ipython3",
   "version": "3.13.0"
  }
 },
 "nbformat": 4,
 "nbformat_minor": 5
}
